{
 "cells": [
  {
   "cell_type": "code",
   "execution_count": 1,
   "id": "daf06bc8",
   "metadata": {},
   "outputs": [],
   "source": [
    "# 图像导入\n",
    "# 调整图像大小\n",
    "# 融合图像\n",
    "# 导出结果\n",
    "import cv2 as cv"
   ]
  },
  {
   "cell_type": "code",
   "execution_count": 7,
   "id": "21791943",
   "metadata": {},
   "outputs": [],
   "source": [
    "# 图像导入\n",
    "bg = cv.imread('data/background.jpg', cv.IMREAD_COLOR)\n",
    "fg = cv.imread('data/foreground.jpg', cv.IMREAD_COLOR)"
   ]
  },
  {
   "cell_type": "code",
   "execution_count": 8,
   "id": "e7df71b2",
   "metadata": {},
   "outputs": [
    {
     "data": {
      "text/plain": [
       "(676, 1010, 3)"
      ]
     },
     "execution_count": 8,
     "metadata": {},
     "output_type": "execute_result"
    }
   ],
   "source": [
    "bg.shape"
   ]
  },
  {
   "cell_type": "code",
   "execution_count": 9,
   "id": "dd7f7787",
   "metadata": {},
   "outputs": [
    {
     "data": {
      "text/plain": [
       "(568, 1009, 3)"
      ]
     },
     "execution_count": 9,
     "metadata": {},
     "output_type": "execute_result"
    }
   ],
   "source": [
    "fg.shape"
   ]
  },
  {
   "cell_type": "code",
   "execution_count": 10,
   "id": "79e009d4",
   "metadata": {},
   "outputs": [],
   "source": [
    "# 调整图像大小\n",
    "dim = (1200, 800)\n",
    "resized_bg = cv.resize(bg, dim, interpolation = cv.INTER_AREA)\n",
    "resized_fg = cv.resize(fg, dim, interpolation = cv.INTER_AREA)"
   ]
  },
  {
   "cell_type": "code",
   "execution_count": 11,
   "id": "57f6bb07",
   "metadata": {},
   "outputs": [
    {
     "data": {
      "text/plain": [
       "(800, 1200, 3)"
      ]
     },
     "execution_count": 11,
     "metadata": {},
     "output_type": "execute_result"
    }
   ],
   "source": [
    "resized_bg.shape"
   ]
  },
  {
   "cell_type": "code",
   "execution_count": 12,
   "id": "a0151a31",
   "metadata": {},
   "outputs": [
    {
     "data": {
      "text/plain": [
       "(800, 1200, 3)"
      ]
     },
     "execution_count": 12,
     "metadata": {},
     "output_type": "execute_result"
    }
   ],
   "source": [
    "resized_fg.shape"
   ]
  },
  {
   "cell_type": "code",
   "execution_count": 14,
   "id": "f505e589",
   "metadata": {},
   "outputs": [],
   "source": [
    "# 融合图像\n",
    "blend = cv.addWeighted(resized_bg, 0.5, resized_fg, 0.8, 0.0)"
   ]
  },
  {
   "cell_type": "code",
   "execution_count": 15,
   "id": "cb246842",
   "metadata": {},
   "outputs": [
    {
     "data": {
      "text/plain": [
       "True"
      ]
     },
     "execution_count": 15,
     "metadata": {},
     "output_type": "execute_result"
    }
   ],
   "source": [
    "# 保存图像\n",
    "cv.imwrite('output/blended.png', blend)"
   ]
  },
  {
   "cell_type": "code",
   "execution_count": null,
   "id": "3d61d18c",
   "metadata": {},
   "outputs": [],
   "source": []
  }
 ],
 "metadata": {
  "kernelspec": {
   "display_name": "Python 3 (ipykernel)",
   "language": "python",
   "name": "python3"
  },
  "language_info": {
   "codemirror_mode": {
    "name": "ipython",
    "version": 3
   },
   "file_extension": ".py",
   "mimetype": "text/x-python",
   "name": "python",
   "nbconvert_exporter": "python",
   "pygments_lexer": "ipython3",
   "version": "3.9.13"
  }
 },
 "nbformat": 4,
 "nbformat_minor": 5
}
